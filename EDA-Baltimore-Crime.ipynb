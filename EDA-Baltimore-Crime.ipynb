{
 "cells": [
  {
   "cell_type": "markdown",
   "metadata": {},
   "source": [
    "# Baltimore Crime Data Analysis\n",
    "\n",
    "This notebook performs an exploratory data analysis (EDA) on the Baltimore crime data. The goal is to uncover significant trends, patterns, and insights from the data."
   ]
  },
  {
   "cell_type": "code",
   "execution_count": 1,
   "metadata": {},
   "outputs": [],
   "source": [
    "# Import necessary libraries\n",
    "import pandas as pd\n",
    "import numpy as np\n",
    "import matplotlib.pyplot as plt\n",
    "import seaborn as sns\n",
    "\n",
    "# Set visualization style\n",
    "sns.set(style=\"whitegrid\")"
   ]
  },
  {
   "cell_type": "markdown",
   "metadata": {},
   "source": [
    "## Load the Data\n",
    "\n",
    "Load the crime data from the CSV file into a pandas DataFrame."
   ]
  },
  {
   "cell_type": "code",
   "execution_count": 2,
   "metadata": {},
   "outputs": [],
   "source": [
    "# Load the crime data\n",
    "crime_data = pd.read_csv('Part_1_Crime_Data.csv')\n",
    "\n",
    "# Display the first few rows of the dataset\n",
    "crime_data.head()"
   ]
  },
  {
   "cell_type": "markdown",
   "metadata": {},
   "source": [
    "## Data Cleaning\n",
    "\n",
    "Perform initial data cleaning by removing duplicates and handling missing values."
   ]
  },
  {
   "cell_type": "code",
   "execution_count": 3,
   "metadata": {},
   "outputs": [],
   "source": [
    "# Remove duplicates\n",
    "crime_data.drop_duplicates(inplace=True)\n",
    "\n",
    "# Handle missing values\n",
    "crime_data.dropna(inplace=True)\n",
    "\n",
    "# Display the cleaned dataset\n",
    "crime_data.head()"
   ]
  },
  {
   "cell_type": "markdown",
   "metadata": {},
   "source": [
    "## Descriptive Statistics\n",
    "\n",
    "Calculate descriptive statistics to understand the distribution of the data."
   ]
  },
  {
   "cell_type": "code",
   "execution_count": 4,
   "metadata": {},
   "outputs": [],
   "source": [
    "# Calculate descriptive statistics\n",
    "crime_data.describe()"
   ]
  },
  {
   "cell_type": "markdown",
   "metadata": {},
   "source": [
    "## Visualization\n",
    "\n",
    "Create visualizations to identify temporal and spatial patterns in the crime data."
   ]
  },
  {
   "cell_type": "code",
   "execution_count": 5,
   "metadata": {},
   "outputs": [],
   "source": [
    "# Create a heatmap of crime incidents by neighborhood\n",
    "plt.figure(figsize=(12, 6))\n",
    "sns.heatmap(crime_data.pivot_table(index='Neighborhood', columns='CrimeDate', values='CrimeID', aggfunc='count'), cmap='YlGnBu')\n",
    "plt.title('Heatmap of Crime Incidents by Neighborhood')\n",
    "plt.xlabel('Date')\n",
    "plt.ylabel('Neighborhood')\n",
    "plt.show()"
   ]
  },
  {
   "cell_type": "code",
   "execution_count": 6,
   "metadata": {},
   "outputs": [],
   "source": [
    "# Create a line chart of crime incidents over time\n",
    "plt.figure(figsize=(12, 6))\n",
    "crime_data['CrimeDate'] = pd.to_datetime(crime_data['CrimeDate'])\n",
    "crime_data.set_index('CrimeDate', inplace=True)\n",
    "crime_data.resample('M').size().plot()\n",
    "plt.title('Crime Incidents Over Time')\n",
    "plt.xlabel('Date')\n",
    "plt.ylabel('Number of Incidents')\n",
    "plt.show()"
   ]
  },
  {
   "cell_type": "markdown",
   "metadata": {},
   "source": [
    "## Grouping by Neighborhood\n",
    "\n",
    "Aggregate the data by neighborhood for year-wise comparisons."
   ]
  },
  {
   "cell_type": "code",
   "execution_count": 7,
   "metadata": {},
   "outputs": [],
   "source": [
    "# Group data by neighborhood and year\n",
    "crime_data['Year'] = crime_data.index.year\n",
    "neighborhood_crime = crime_data.groupby(['Neighborhood', 'Year']).size().unstack().fillna(0)\n",
    "\n",
    "# Display the aggregated data\n",
    "neighborhood_crime.head()"
   ]
  }
 ]
}
